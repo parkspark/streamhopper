{
  "cells": [
    {
      "cell_type": "markdown",
      "metadata": {},
      "source": [
        "# 2020년 국내 유료 OTT 사용률 \n",
        "( 출처 : 방송통신위원회 방송통계포털 https://www.mediastat.or.kr/kor/tblInfo/TblInfoList.html?vw_cd=MT_ATITLE)"
      ]
    },
    {
      "cell_type": "markdown",
      "metadata": {},
      "source": [
        "* 코로나 이후(2019말 이후) OTT 사용 증가.\n",
        "* 이에따라 증가한 OTT의 사용률 비교. (유료)\n",
        "* 2019년의 자료가 있었으면 변화를 볼수 있을텐데 아쉬운 점"
      ]
    },
    {
      "cell_type": "markdown",
      "metadata": {},
      "source": [
        "## output"
      ]
    },
    {
      "cell_type": "code",
      "execution_count": 163,
      "metadata": {},
      "outputs": [
        {
          "data": {
            "text/plain": [
              "Text(0.5, 1.0, '2020 국내 유료 OTT 사용률')"
            ]
          },
          "execution_count": 163,
          "metadata": {},
          "output_type": "execute_result"
        },
        {
          "data": {
            "image/png": "[encoded data removed]",
            "text/plain": [
              "<Figure size 432x288 with 1 Axes>"
            ]
          },
          "metadata": {
            "needs_background": "light"
          },
          "output_type": "display_data"
        }
      ],
      "source": [
        "ott_ratio_2020_all.sort_values(by = '사용률(%)',ascending=False).plot.bar()\n",
        "plt.xticks(rotation=45)\n",
        "plt.title('2020 국내 유료 OTT 사용률')"
      ]
    },
    {
      "cell_type": "markdown",
      "metadata": {},
      "source": [
        "code"
      ]
    },
    {
      "cell_type": "code",
      "execution_count": 3,
      "metadata": {
        "id": "HSt5XbmV9XY1"
      },
      "outputs": [],
      "source": [
        "# numpy\n",
        "import numpy as np\n",
        "\n",
        "# pandas\n",
        "import pandas as pd\n",
        "\n",
        "# seaborn\n",
        "import seaborn as sns\n",
        "\n",
        "# matplotlib의 pyplot\n",
        "import matplotlib.pyplot as plt\n",
        "\n",
        "# matplotlib 시각화 결과를 jupyter notebook에서 바로 확인하기 위한 코드 작성 \n",
        "# %matplotlib inline "
      ]
    },
    {
      "cell_type": "code",
      "execution_count": null,
      "metadata": {},
      "outputs": [],
      "source": [
        "# 한글 폰트 사용을 위해서 세팅\n",
        "from matplotlib import font_manager, rc\n",
        "font_path = \"C:/Windows/Fonts/gulim.ttc\"\n",
        "font = font_manager.FontProperties(fname=font_path).get_name()\n",
        "rc('font', family=font)"
      ]
    },
    {
      "cell_type": "code",
      "execution_count": 58,
      "metadata": {
        "colab": {
          "base_uri": "https://localhost:8080/"
        },
        "id": "94ReTmm8umpr",
        "outputId": "1f94b7ee-c9a0-45de-cecb-8f2e6b339b5b"
      },
      "outputs": [
        {
          "name": "stdout",
          "output_type": "stream",
          "text": [
            "<class 'pandas.core.frame.DataFrame'>\n",
            "RangeIndex: 10 entries, 0 to 9\n",
            "Data columns (total 14 columns):\n",
            " #   Column        Non-Null Count  Dtype  \n",
            "---  ------        --------------  -----  \n",
            " 0   구분별(2)        10 non-null     object \n",
            " 1   사례수 (명)       10 non-null     int64  \n",
            " 2   U+모바일 TV (%)  10 non-null     float64\n",
            " 3   Tving (%)     10 non-null     float64\n",
            " 4   V live (%)    10 non-null     float64\n",
            " 5   아프리카 TV (%)   10 non-null     float64\n",
            " 6   왓챠플레이 (%)     10 non-null     float64\n",
            " 7   곰TV (%)       10 non-null     float64\n",
            " 8   유튜브 (%)       10 non-null     float64\n",
            " 9   넷플릭스 (%)      10 non-null     float64\n",
            " 10  Wavve (%)     10 non-null     float64\n",
            " 11  시즌 (%)        10 non-null     float64\n",
            " 12  기타 (%)        10 non-null     float64\n",
            " 13  이용한적 없음 (%)   10 non-null     float64\n",
            "dtypes: float64(12), int64(1), object(1)\n",
            "memory usage: 1.2+ KB\n",
            "   구분별(2)  사례수 (명)  U+모바일 TV (%)  Tving (%)  V live (%)  아프리카 TV (%)  \\\n",
            "0      소계     3999           1.1        1.5         0.1          0.3   \n",
            "1      남자     2087           1.3        1.9         0.0          0.4   \n",
            "2      여자     1912           0.8        1.1         0.3          0.1   \n",
            "3     10대      453           3.1        1.1         0.0          0.5   \n",
            "4     20대      835           1.7        2.1         0.6          0.7   \n",
            "5     30대      831           0.9        2.8         0.0          0.1   \n",
            "6     40대      800           0.9        0.7         0.0          0.0   \n",
            "7     50대      713           0.0        1.3         0.0          0.1   \n",
            "8     60대      294           0.0        0.0         0.0          0.0   \n",
            "9  70세 이상       72           0.0        0.0         0.0          0.0   \n",
            "\n",
            "   왓챠플레이 (%)  곰TV (%)  유튜브 (%)  넷플릭스 (%)  Wavve (%)  시즌 (%)  기타 (%)  \\\n",
            "0        0.3      0.0      8.2      11.6        2.3     0.5     0.0   \n",
            "1        0.2      0.0      9.1      10.8        2.5     0.4     0.0   \n",
            "2        0.5      0.1      7.2      12.4        2.2     0.6     0.1   \n",
            "3        0.1      0.0      6.1      11.4        0.9     2.1     0.0   \n",
            "4        1.2      0.0     11.7      18.1        5.1     0.8     0.0   \n",
            "5        0.3      0.1      8.6      20.2        4.2     0.4     0.0   \n",
            "6        0.0      0.0      7.6       7.6        0.9     0.0     0.0   \n",
            "7        0.0      0.0      6.1       3.4        0.6     0.0     0.2   \n",
            "8        0.0      0.0      7.3       1.5        0.0     0.0     0.0   \n",
            "9        0.0      0.0      5.7       3.0        0.0     0.0     0.0   \n",
            "\n",
            "   이용한적 없음 (%)  \n",
            "0         78.3  \n",
            "1         77.3  \n",
            "2         79.3  \n",
            "3         79.6  \n",
            "4         66.6  \n",
            "5         69.9  \n",
            "6         82.4  \n",
            "7         89.6  \n",
            "8         91.3  \n",
            "9         91.4  \n"
          ]
        }
      ],
      "source": [
        "ott_ratio_2020 = pd.read_csv('./data/추가요금을_지불하고_이용한_온라인동영상제공서비스_OTT__2020.csv')\n",
        "ott_ratio_2020.info()\n",
        "print(ott_ratio_2020)"
      ]
    },
    {
      "cell_type": "code",
      "execution_count": 76,
      "metadata": {},
      "outputs": [
        {
          "data": {
            "text/html": [
              "<div>\n",
              "<style scoped>\n",
              "    .dataframe tbody tr th:only-of-type {\n",
              "        vertical-align: middle;\n",
              "    }\n",
              "\n",
              "    .dataframe tbody tr th {\n",
              "        vertical-align: top;\n",
              "    }\n",
              "\n",
              "    .dataframe thead th {\n",
              "        text-align: right;\n",
              "    }\n",
              "</style>\n",
              "<table border=\"1\" class=\"dataframe\">\n",
              "  <thead>\n",
              "    <tr style=\"text-align: right;\">\n",
              "      <th></th>\n",
              "      <th>U+모바일 TV (%)</th>\n",
              "      <th>Tving (%)</th>\n",
              "      <th>V live (%)</th>\n",
              "      <th>아프리카 TV (%)</th>\n",
              "      <th>왓챠플레이 (%)</th>\n",
              "      <th>곰TV (%)</th>\n",
              "      <th>유튜브 (%)</th>\n",
              "      <th>넷플릭스 (%)</th>\n",
              "      <th>Wavve (%)</th>\n",
              "      <th>시즌 (%)</th>\n",
              "      <th>기타 (%)</th>\n",
              "    </tr>\n",
              "  </thead>\n",
              "  <tbody>\n",
              "    <tr>\n",
              "      <th>0</th>\n",
              "      <td>1.1</td>\n",
              "      <td>1.5</td>\n",
              "      <td>0.1</td>\n",
              "      <td>0.3</td>\n",
              "      <td>0.3</td>\n",
              "      <td>0.0</td>\n",
              "      <td>8.2</td>\n",
              "      <td>11.6</td>\n",
              "      <td>2.3</td>\n",
              "      <td>0.5</td>\n",
              "      <td>0.0</td>\n",
              "    </tr>\n",
              "  </tbody>\n",
              "</table>\n",
              "</div>"
            ],
            "text/plain": [
              "   U+모바일 TV (%)  Tving (%)  V live (%)  아프리카 TV (%)  왓챠플레이 (%)  곰TV (%)  \\\n",
              "0           1.1        1.5         0.1          0.3        0.3      0.0   \n",
              "\n",
              "   유튜브 (%)  넷플릭스 (%)  Wavve (%)  시즌 (%)  기타 (%)  \n",
              "0      8.2      11.6        2.3     0.5     0.0  "
            ]
          },
          "execution_count": 76,
          "metadata": {},
          "output_type": "execute_result"
        }
      ],
      "source": [
        "ott_ratio_2020[ott_ratio_2020['구분별(2)']== '소계'].iloc[:,2:-1]"
      ]
    },
    {
      "cell_type": "code",
      "execution_count": 79,
      "metadata": {},
      "outputs": [
        {
          "data": {
            "text/html": [
              "<div>\n",
              "<style scoped>\n",
              "    .dataframe tbody tr th:only-of-type {\n",
              "        vertical-align: middle;\n",
              "    }\n",
              "\n",
              "    .dataframe tbody tr th {\n",
              "        vertical-align: top;\n",
              "    }\n",
              "\n",
              "    .dataframe thead th {\n",
              "        text-align: right;\n",
              "    }\n",
              "</style>\n",
              "<table border=\"1\" class=\"dataframe\">\n",
              "  <thead>\n",
              "    <tr style=\"text-align: right;\">\n",
              "      <th></th>\n",
              "      <th>0</th>\n",
              "    </tr>\n",
              "  </thead>\n",
              "  <tbody>\n",
              "    <tr>\n",
              "      <th>U+모바일 TV (%)</th>\n",
              "      <td>1.1</td>\n",
              "    </tr>\n",
              "    <tr>\n",
              "      <th>Tving (%)</th>\n",
              "      <td>1.5</td>\n",
              "    </tr>\n",
              "    <tr>\n",
              "      <th>V live (%)</th>\n",
              "      <td>0.1</td>\n",
              "    </tr>\n",
              "    <tr>\n",
              "      <th>아프리카 TV (%)</th>\n",
              "      <td>0.3</td>\n",
              "    </tr>\n",
              "    <tr>\n",
              "      <th>왓챠플레이 (%)</th>\n",
              "      <td>0.3</td>\n",
              "    </tr>\n",
              "    <tr>\n",
              "      <th>곰TV (%)</th>\n",
              "      <td>0.0</td>\n",
              "    </tr>\n",
              "    <tr>\n",
              "      <th>유튜브 (%)</th>\n",
              "      <td>8.2</td>\n",
              "    </tr>\n",
              "    <tr>\n",
              "      <th>넷플릭스 (%)</th>\n",
              "      <td>11.6</td>\n",
              "    </tr>\n",
              "    <tr>\n",
              "      <th>Wavve (%)</th>\n",
              "      <td>2.3</td>\n",
              "    </tr>\n",
              "    <tr>\n",
              "      <th>시즌 (%)</th>\n",
              "      <td>0.5</td>\n",
              "    </tr>\n",
              "    <tr>\n",
              "      <th>기타 (%)</th>\n",
              "      <td>0.0</td>\n",
              "    </tr>\n",
              "  </tbody>\n",
              "</table>\n",
              "</div>"
            ],
            "text/plain": [
              "                 0\n",
              "U+모바일 TV (%)   1.1\n",
              "Tving (%)      1.5\n",
              "V live (%)     0.1\n",
              "아프리카 TV (%)    0.3\n",
              "왓챠플레이 (%)      0.3\n",
              "곰TV (%)        0.0\n",
              "유튜브 (%)        8.2\n",
              "넷플릭스 (%)      11.6\n",
              "Wavve (%)      2.3\n",
              "시즌 (%)         0.5\n",
              "기타 (%)         0.0"
            ]
          },
          "execution_count": 79,
          "metadata": {},
          "output_type": "execute_result"
        }
      ],
      "source": [
        "ott_ratio_2020[ott_ratio_2020['구분별(2)']== '소계'].iloc[:,2:-1].T"
      ]
    },
    {
      "cell_type": "code",
      "execution_count": 140,
      "metadata": {},
      "outputs": [
        {
          "data": {
            "text/plain": [
              "<AxesSubplot:>"
            ]
          },
          "execution_count": 140,
          "metadata": {},
          "output_type": "execute_result"
        },
        {
          "data": {
            "image/png": "[encoded data removed]",
            "text/plain": [
              "<Figure size 432x288 with 1 Axes>"
            ]
          },
          "metadata": {
            "needs_background": "light"
          },
          "output_type": "display_data"
        }
      ],
      "source": [
        "ott_ratio_2020[ott_ratio_2020['구분별(2)']== '소계'].iloc[:,2:-1].plot.bar()"
      ]
    },
    {
      "cell_type": "markdown",
      "metadata": {},
      "source": [
        "# OTT 회사들의 '(%)' 지우기\n"
      ]
    },
    {
      "cell_type": "code",
      "execution_count": 84,
      "metadata": {},
      "outputs": [
        {
          "data": {
            "text/html": [
              "<div>\n",
              "<style scoped>\n",
              "    .dataframe tbody tr th:only-of-type {\n",
              "        vertical-align: middle;\n",
              "    }\n",
              "\n",
              "    .dataframe tbody tr th {\n",
              "        vertical-align: top;\n",
              "    }\n",
              "\n",
              "    .dataframe thead th {\n",
              "        text-align: right;\n",
              "    }\n",
              "</style>\n",
              "<table border=\"1\" class=\"dataframe\">\n",
              "  <thead>\n",
              "    <tr style=\"text-align: right;\">\n",
              "      <th></th>\n",
              "      <th>index</th>\n",
              "      <th>0</th>\n",
              "    </tr>\n",
              "  </thead>\n",
              "  <tbody>\n",
              "    <tr>\n",
              "      <th>0</th>\n",
              "      <td>U+모바일 TV (%)</td>\n",
              "      <td>1.1</td>\n",
              "    </tr>\n",
              "    <tr>\n",
              "      <th>1</th>\n",
              "      <td>Tving (%)</td>\n",
              "      <td>1.5</td>\n",
              "    </tr>\n",
              "    <tr>\n",
              "      <th>2</th>\n",
              "      <td>V live (%)</td>\n",
              "      <td>0.1</td>\n",
              "    </tr>\n",
              "    <tr>\n",
              "      <th>3</th>\n",
              "      <td>아프리카 TV (%)</td>\n",
              "      <td>0.3</td>\n",
              "    </tr>\n",
              "    <tr>\n",
              "      <th>4</th>\n",
              "      <td>왓챠플레이 (%)</td>\n",
              "      <td>0.3</td>\n",
              "    </tr>\n",
              "    <tr>\n",
              "      <th>5</th>\n",
              "      <td>곰TV (%)</td>\n",
              "      <td>0.0</td>\n",
              "    </tr>\n",
              "    <tr>\n",
              "      <th>6</th>\n",
              "      <td>유튜브 (%)</td>\n",
              "      <td>8.2</td>\n",
              "    </tr>\n",
              "    <tr>\n",
              "      <th>7</th>\n",
              "      <td>넷플릭스 (%)</td>\n",
              "      <td>11.6</td>\n",
              "    </tr>\n",
              "    <tr>\n",
              "      <th>8</th>\n",
              "      <td>Wavve (%)</td>\n",
              "      <td>2.3</td>\n",
              "    </tr>\n",
              "    <tr>\n",
              "      <th>9</th>\n",
              "      <td>시즌 (%)</td>\n",
              "      <td>0.5</td>\n",
              "    </tr>\n",
              "    <tr>\n",
              "      <th>10</th>\n",
              "      <td>기타 (%)</td>\n",
              "      <td>0.0</td>\n",
              "    </tr>\n",
              "  </tbody>\n",
              "</table>\n",
              "</div>"
            ],
            "text/plain": [
              "           index     0\n",
              "0   U+모바일 TV (%)   1.1\n",
              "1      Tving (%)   1.5\n",
              "2     V live (%)   0.1\n",
              "3    아프리카 TV (%)   0.3\n",
              "4      왓챠플레이 (%)   0.3\n",
              "5        곰TV (%)   0.0\n",
              "6        유튜브 (%)   8.2\n",
              "7       넷플릭스 (%)  11.6\n",
              "8      Wavve (%)   2.3\n",
              "9         시즌 (%)   0.5\n",
              "10        기타 (%)   0.0"
            ]
          },
          "execution_count": 84,
          "metadata": {},
          "output_type": "execute_result"
        }
      ],
      "source": [
        "ott_ratio_2020[ott_ratio_2020['구분별(2)']== '소계'].iloc[:,2:-1].T.reset_index()"
      ]
    },
    {
      "cell_type": "code",
      "execution_count": 110,
      "metadata": {},
      "outputs": [],
      "source": [
        "import re"
      ]
    },
    {
      "cell_type": "code",
      "execution_count": 155,
      "metadata": {},
      "outputs": [],
      "source": [
        "ott_ratio_2020_all=ott_ratio_2020[ott_ratio_2020['구분별(2)']== '소계'].iloc[:,2:-1].T.reset_index()\n",
        "ott_ratio_2020_all['index'] = ott_ratio_2020_all['index'].str.replace(pat=r'[(%)]', repl=r'', regex=True)#(%) 제거 \n",
        "#특문 전체를 제거하고싶다면 pat=r'[^\\w]' 사용, 여기서는 U+모바일 에 + 도 같이 제거되어 따로 설정"
      ]
    },
    {
      "cell_type": "code",
      "execution_count": 156,
      "metadata": {},
      "outputs": [
        {
          "data": {
            "text/html": [
              "<div>\n",
              "<style scoped>\n",
              "    .dataframe tbody tr th:only-of-type {\n",
              "        vertical-align: middle;\n",
              "    }\n",
              "\n",
              "    .dataframe tbody tr th {\n",
              "        vertical-align: top;\n",
              "    }\n",
              "\n",
              "    .dataframe thead th {\n",
              "        text-align: right;\n",
              "    }\n",
              "</style>\n",
              "<table border=\"1\" class=\"dataframe\">\n",
              "  <thead>\n",
              "    <tr style=\"text-align: right;\">\n",
              "      <th></th>\n",
              "      <th>index</th>\n",
              "      <th>0</th>\n",
              "    </tr>\n",
              "  </thead>\n",
              "  <tbody>\n",
              "    <tr>\n",
              "      <th>0</th>\n",
              "      <td>U+모바일 TV</td>\n",
              "      <td>1.1</td>\n",
              "    </tr>\n",
              "    <tr>\n",
              "      <th>1</th>\n",
              "      <td>Tving</td>\n",
              "      <td>1.5</td>\n",
              "    </tr>\n",
              "    <tr>\n",
              "      <th>2</th>\n",
              "      <td>V live</td>\n",
              "      <td>0.1</td>\n",
              "    </tr>\n",
              "    <tr>\n",
              "      <th>3</th>\n",
              "      <td>아프리카 TV</td>\n",
              "      <td>0.3</td>\n",
              "    </tr>\n",
              "    <tr>\n",
              "      <th>4</th>\n",
              "      <td>왓챠플레이</td>\n",
              "      <td>0.3</td>\n",
              "    </tr>\n",
              "    <tr>\n",
              "      <th>5</th>\n",
              "      <td>곰TV</td>\n",
              "      <td>0.0</td>\n",
              "    </tr>\n",
              "    <tr>\n",
              "      <th>6</th>\n",
              "      <td>유튜브</td>\n",
              "      <td>8.2</td>\n",
              "    </tr>\n",
              "    <tr>\n",
              "      <th>7</th>\n",
              "      <td>넷플릭스</td>\n",
              "      <td>11.6</td>\n",
              "    </tr>\n",
              "    <tr>\n",
              "      <th>8</th>\n",
              "      <td>Wavve</td>\n",
              "      <td>2.3</td>\n",
              "    </tr>\n",
              "    <tr>\n",
              "      <th>9</th>\n",
              "      <td>시즌</td>\n",
              "      <td>0.5</td>\n",
              "    </tr>\n",
              "    <tr>\n",
              "      <th>10</th>\n",
              "      <td>기타</td>\n",
              "      <td>0.0</td>\n",
              "    </tr>\n",
              "  </tbody>\n",
              "</table>\n",
              "</div>"
            ],
            "text/plain": [
              "        index     0\n",
              "0   U+모바일 TV    1.1\n",
              "1      Tving    1.5\n",
              "2     V live    0.1\n",
              "3    아프리카 TV    0.3\n",
              "4      왓챠플레이    0.3\n",
              "5        곰TV    0.0\n",
              "6        유튜브    8.2\n",
              "7       넷플릭스   11.6\n",
              "8      Wavve    2.3\n",
              "9         시즌    0.5\n",
              "10        기타    0.0"
            ]
          },
          "execution_count": 156,
          "metadata": {},
          "output_type": "execute_result"
        }
      ],
      "source": [
        "ott_ratio_2020_all"
      ]
    },
    {
      "cell_type": "code",
      "execution_count": 157,
      "metadata": {},
      "outputs": [],
      "source": [
        "ott_ratio_2020_all=ott_ratio_2020_all.rename(columns={'index' : 'OTT 회사', 0:'사용률(%)'})"
      ]
    },
    {
      "cell_type": "code",
      "execution_count": 158,
      "metadata": {},
      "outputs": [],
      "source": [
        "ott_ratio_2020_all=ott_ratio_2020_all.set_index('OTT 회사')"
      ]
    },
    {
      "cell_type": "code",
      "execution_count": 159,
      "metadata": {},
      "outputs": [
        {
          "data": {
            "text/plain": [
              "<AxesSubplot:xlabel='OTT 회사'>"
            ]
          },
          "execution_count": 159,
          "metadata": {},
          "output_type": "execute_result"
        },
        {
          "data": {
            "image/png": "[encoded data removed]",
            "text/plain": [
              "<Figure size 432x288 with 1 Axes>"
            ]
          },
          "metadata": {
            "needs_background": "light"
          },
          "output_type": "display_data"
        }
      ],
      "source": [
        "ott_ratio_2020_all.plot.bar()"
      ]
    },
    {
      "cell_type": "code",
      "execution_count": 161,
      "metadata": {},
      "outputs": [
        {
          "data": {
            "text/plain": [
              "Text(0.5, 1.0, '2020 국내 유료 OTT 사용률')"
            ]
          },
          "execution_count": 161,
          "metadata": {},
          "output_type": "execute_result"
        },
        {
          "data": {
            "image/png": "[encoded data removed]",
            "text/plain": [
              "<Figure size 432x288 with 1 Axes>"
            ]
          },
          "metadata": {
            "needs_background": "light"
          },
          "output_type": "display_data"
        }
      ],
      "source": [
        "ott_ratio_2020_all.sort_values(by = '사용률(%)',ascending=False).plot.bar()\n",
        "plt.xticks(rotation=45)\n",
        "plt.title('2020 국내 유료 OTT 사용률')"
      ]
    },
    {
      "cell_type": "markdown",
      "metadata": {},
      "source": [
        "# truoble"
      ]
    },
    {
      "cell_type": "code",
      "execution_count": 18,
      "metadata": {},
      "outputs": [
        {
          "data": {
            "text/html": [
              "<div>\n",
              "<style scoped>\n",
              "    .dataframe tbody tr th:only-of-type {\n",
              "        vertical-align: middle;\n",
              "    }\n",
              "\n",
              "    .dataframe tbody tr th {\n",
              "        vertical-align: top;\n",
              "    }\n",
              "\n",
              "    .dataframe thead th {\n",
              "        text-align: right;\n",
              "    }\n",
              "</style>\n",
              "<table border=\"1\" class=\"dataframe\">\n",
              "  <thead>\n",
              "    <tr style=\"text-align: right;\">\n",
              "      <th></th>\n",
              "      <th>사례수 (명)</th>\n",
              "      <th>U+모바일 TV (%)</th>\n",
              "      <th>Tving (%)</th>\n",
              "      <th>V live (%)</th>\n",
              "      <th>아프리카 TV (%)</th>\n",
              "      <th>왓챠플레이 (%)</th>\n",
              "      <th>곰TV (%)</th>\n",
              "      <th>유튜브 (%)</th>\n",
              "      <th>넷플릭스 (%)</th>\n",
              "      <th>Wavve (%)</th>\n",
              "      <th>시즌 (%)</th>\n",
              "      <th>기타 (%)</th>\n",
              "      <th>이용한적 없음 (%)</th>\n",
              "    </tr>\n",
              "    <tr>\n",
              "      <th>구분별(2)</th>\n",
              "      <th></th>\n",
              "      <th></th>\n",
              "      <th></th>\n",
              "      <th></th>\n",
              "      <th></th>\n",
              "      <th></th>\n",
              "      <th></th>\n",
              "      <th></th>\n",
              "      <th></th>\n",
              "      <th></th>\n",
              "      <th></th>\n",
              "      <th></th>\n",
              "      <th></th>\n",
              "    </tr>\n",
              "  </thead>\n",
              "  <tbody>\n",
              "    <tr>\n",
              "      <th>소계</th>\n",
              "      <td>3999</td>\n",
              "      <td>1.1</td>\n",
              "      <td>1.5</td>\n",
              "      <td>0.1</td>\n",
              "      <td>0.3</td>\n",
              "      <td>0.3</td>\n",
              "      <td>0.0</td>\n",
              "      <td>8.2</td>\n",
              "      <td>11.6</td>\n",
              "      <td>2.3</td>\n",
              "      <td>0.5</td>\n",
              "      <td>0.0</td>\n",
              "      <td>78.3</td>\n",
              "    </tr>\n",
              "    <tr>\n",
              "      <th>남자</th>\n",
              "      <td>2087</td>\n",
              "      <td>1.3</td>\n",
              "      <td>1.9</td>\n",
              "      <td>0.0</td>\n",
              "      <td>0.4</td>\n",
              "      <td>0.2</td>\n",
              "      <td>0.0</td>\n",
              "      <td>9.1</td>\n",
              "      <td>10.8</td>\n",
              "      <td>2.5</td>\n",
              "      <td>0.4</td>\n",
              "      <td>0.0</td>\n",
              "      <td>77.3</td>\n",
              "    </tr>\n",
              "    <tr>\n",
              "      <th>여자</th>\n",
              "      <td>1912</td>\n",
              "      <td>0.8</td>\n",
              "      <td>1.1</td>\n",
              "      <td>0.3</td>\n",
              "      <td>0.1</td>\n",
              "      <td>0.5</td>\n",
              "      <td>0.1</td>\n",
              "      <td>7.2</td>\n",
              "      <td>12.4</td>\n",
              "      <td>2.2</td>\n",
              "      <td>0.6</td>\n",
              "      <td>0.1</td>\n",
              "      <td>79.3</td>\n",
              "    </tr>\n",
              "    <tr>\n",
              "      <th>10대</th>\n",
              "      <td>453</td>\n",
              "      <td>3.1</td>\n",
              "      <td>1.1</td>\n",
              "      <td>0.0</td>\n",
              "      <td>0.5</td>\n",
              "      <td>0.1</td>\n",
              "      <td>0.0</td>\n",
              "      <td>6.1</td>\n",
              "      <td>11.4</td>\n",
              "      <td>0.9</td>\n",
              "      <td>2.1</td>\n",
              "      <td>0.0</td>\n",
              "      <td>79.6</td>\n",
              "    </tr>\n",
              "    <tr>\n",
              "      <th>20대</th>\n",
              "      <td>835</td>\n",
              "      <td>1.7</td>\n",
              "      <td>2.1</td>\n",
              "      <td>0.6</td>\n",
              "      <td>0.7</td>\n",
              "      <td>1.2</td>\n",
              "      <td>0.0</td>\n",
              "      <td>11.7</td>\n",
              "      <td>18.1</td>\n",
              "      <td>5.1</td>\n",
              "      <td>0.8</td>\n",
              "      <td>0.0</td>\n",
              "      <td>66.6</td>\n",
              "    </tr>\n",
              "    <tr>\n",
              "      <th>30대</th>\n",
              "      <td>831</td>\n",
              "      <td>0.9</td>\n",
              "      <td>2.8</td>\n",
              "      <td>0.0</td>\n",
              "      <td>0.1</td>\n",
              "      <td>0.3</td>\n",
              "      <td>0.1</td>\n",
              "      <td>8.6</td>\n",
              "      <td>20.2</td>\n",
              "      <td>4.2</td>\n",
              "      <td>0.4</td>\n",
              "      <td>0.0</td>\n",
              "      <td>69.9</td>\n",
              "    </tr>\n",
              "    <tr>\n",
              "      <th>40대</th>\n",
              "      <td>800</td>\n",
              "      <td>0.9</td>\n",
              "      <td>0.7</td>\n",
              "      <td>0.0</td>\n",
              "      <td>0.0</td>\n",
              "      <td>0.0</td>\n",
              "      <td>0.0</td>\n",
              "      <td>7.6</td>\n",
              "      <td>7.6</td>\n",
              "      <td>0.9</td>\n",
              "      <td>0.0</td>\n",
              "      <td>0.0</td>\n",
              "      <td>82.4</td>\n",
              "    </tr>\n",
              "    <tr>\n",
              "      <th>50대</th>\n",
              "      <td>713</td>\n",
              "      <td>0.0</td>\n",
              "      <td>1.3</td>\n",
              "      <td>0.0</td>\n",
              "      <td>0.1</td>\n",
              "      <td>0.0</td>\n",
              "      <td>0.0</td>\n",
              "      <td>6.1</td>\n",
              "      <td>3.4</td>\n",
              "      <td>0.6</td>\n",
              "      <td>0.0</td>\n",
              "      <td>0.2</td>\n",
              "      <td>89.6</td>\n",
              "    </tr>\n",
              "    <tr>\n",
              "      <th>60대</th>\n",
              "      <td>294</td>\n",
              "      <td>0.0</td>\n",
              "      <td>0.0</td>\n",
              "      <td>0.0</td>\n",
              "      <td>0.0</td>\n",
              "      <td>0.0</td>\n",
              "      <td>0.0</td>\n",
              "      <td>7.3</td>\n",
              "      <td>1.5</td>\n",
              "      <td>0.0</td>\n",
              "      <td>0.0</td>\n",
              "      <td>0.0</td>\n",
              "      <td>91.3</td>\n",
              "    </tr>\n",
              "    <tr>\n",
              "      <th>70세 이상</th>\n",
              "      <td>72</td>\n",
              "      <td>0.0</td>\n",
              "      <td>0.0</td>\n",
              "      <td>0.0</td>\n",
              "      <td>0.0</td>\n",
              "      <td>0.0</td>\n",
              "      <td>0.0</td>\n",
              "      <td>5.7</td>\n",
              "      <td>3.0</td>\n",
              "      <td>0.0</td>\n",
              "      <td>0.0</td>\n",
              "      <td>0.0</td>\n",
              "      <td>91.4</td>\n",
              "    </tr>\n",
              "  </tbody>\n",
              "</table>\n",
              "</div>"
            ],
            "text/plain": [
              "        사례수 (명)  U+모바일 TV (%)  Tving (%)  V live (%)  아프리카 TV (%)  왓챠플레이 (%)  \\\n",
              "구분별(2)                                                                         \n",
              "소계         3999           1.1        1.5         0.1          0.3        0.3   \n",
              "남자         2087           1.3        1.9         0.0          0.4        0.2   \n",
              "여자         1912           0.8        1.1         0.3          0.1        0.5   \n",
              "10대         453           3.1        1.1         0.0          0.5        0.1   \n",
              "20대         835           1.7        2.1         0.6          0.7        1.2   \n",
              "30대         831           0.9        2.8         0.0          0.1        0.3   \n",
              "40대         800           0.9        0.7         0.0          0.0        0.0   \n",
              "50대         713           0.0        1.3         0.0          0.1        0.0   \n",
              "60대         294           0.0        0.0         0.0          0.0        0.0   \n",
              "70세 이상       72           0.0        0.0         0.0          0.0        0.0   \n",
              "\n",
              "        곰TV (%)  유튜브 (%)  넷플릭스 (%)  Wavve (%)  시즌 (%)  기타 (%)  이용한적 없음 (%)  \n",
              "구분별(2)                                                                      \n",
              "소계          0.0      8.2      11.6        2.3     0.5     0.0         78.3  \n",
              "남자          0.0      9.1      10.8        2.5     0.4     0.0         77.3  \n",
              "여자          0.1      7.2      12.4        2.2     0.6     0.1         79.3  \n",
              "10대         0.0      6.1      11.4        0.9     2.1     0.0         79.6  \n",
              "20대         0.0     11.7      18.1        5.1     0.8     0.0         66.6  \n",
              "30대         0.1      8.6      20.2        4.2     0.4     0.0         69.9  \n",
              "40대         0.0      7.6       7.6        0.9     0.0     0.0         82.4  \n",
              "50대         0.0      6.1       3.4        0.6     0.0     0.2         89.6  \n",
              "60대         0.0      7.3       1.5        0.0     0.0     0.0         91.3  \n",
              "70세 이상      0.0      5.7       3.0        0.0     0.0     0.0         91.4  "
            ]
          },
          "execution_count": 18,
          "metadata": {},
          "output_type": "execute_result"
        }
      ],
      "source": [
        "# 인덱스 깔끔하게 정리\n",
        "ott_ratio_2020 = ott_ratio_2020.set_index('구분별(2)')\n",
        "ott_ratio_2020"
      ]
    },
    {
      "cell_type": "code",
      "execution_count": 19,
      "metadata": {},
      "outputs": [
        {
          "data": {
            "text/html": [
              "<div>\n",
              "<style scoped>\n",
              "    .dataframe tbody tr th:only-of-type {\n",
              "        vertical-align: middle;\n",
              "    }\n",
              "\n",
              "    .dataframe tbody tr th {\n",
              "        vertical-align: top;\n",
              "    }\n",
              "\n",
              "    .dataframe thead th {\n",
              "        text-align: right;\n",
              "    }\n",
              "</style>\n",
              "<table border=\"1\" class=\"dataframe\">\n",
              "  <thead>\n",
              "    <tr style=\"text-align: right;\">\n",
              "      <th></th>\n",
              "      <th>사례수 (명)</th>\n",
              "      <th>U+모바일 TV (%)</th>\n",
              "      <th>Tving (%)</th>\n",
              "      <th>V live (%)</th>\n",
              "      <th>아프리카 TV (%)</th>\n",
              "      <th>왓챠플레이 (%)</th>\n",
              "      <th>곰TV (%)</th>\n",
              "      <th>유튜브 (%)</th>\n",
              "      <th>넷플릭스 (%)</th>\n",
              "      <th>Wavve (%)</th>\n",
              "      <th>시즌 (%)</th>\n",
              "      <th>기타 (%)</th>\n",
              "      <th>이용한적 없음 (%)</th>\n",
              "    </tr>\n",
              "    <tr>\n",
              "      <th>구분별(2)</th>\n",
              "      <th></th>\n",
              "      <th></th>\n",
              "      <th></th>\n",
              "      <th></th>\n",
              "      <th></th>\n",
              "      <th></th>\n",
              "      <th></th>\n",
              "      <th></th>\n",
              "      <th></th>\n",
              "      <th></th>\n",
              "      <th></th>\n",
              "      <th></th>\n",
              "      <th></th>\n",
              "    </tr>\n",
              "  </thead>\n",
              "  <tbody>\n",
              "    <tr>\n",
              "      <th>소계</th>\n",
              "      <td>3999</td>\n",
              "      <td>1.1</td>\n",
              "      <td>1.5</td>\n",
              "      <td>0.1</td>\n",
              "      <td>0.3</td>\n",
              "      <td>0.3</td>\n",
              "      <td>0.0</td>\n",
              "      <td>8.2</td>\n",
              "      <td>11.6</td>\n",
              "      <td>2.3</td>\n",
              "      <td>0.5</td>\n",
              "      <td>0.0</td>\n",
              "      <td>78.3</td>\n",
              "    </tr>\n",
              "  </tbody>\n",
              "</table>\n",
              "</div>"
            ],
            "text/plain": [
              "        사례수 (명)  U+모바일 TV (%)  Tving (%)  V live (%)  아프리카 TV (%)  왓챠플레이 (%)  \\\n",
              "구분별(2)                                                                         \n",
              "소계         3999           1.1        1.5         0.1          0.3        0.3   \n",
              "\n",
              "        곰TV (%)  유튜브 (%)  넷플릭스 (%)  Wavve (%)  시즌 (%)  기타 (%)  이용한적 없음 (%)  \n",
              "구분별(2)                                                                      \n",
              "소계          0.0      8.2      11.6        2.3     0.5     0.0         78.3  "
            ]
          },
          "execution_count": 19,
          "metadata": {},
          "output_type": "execute_result"
        }
      ],
      "source": [
        "ott_ratio_2020.loc[['소계']]"
      ]
    },
    {
      "cell_type": "markdown",
      "metadata": {},
      "source": [
        "# 소계, 사례수 문제\n",
        "# 이용한적없음(%) 값이 너무 커 다른 값들의 차이를 보기 힘듬"
      ]
    },
    {
      "cell_type": "code",
      "execution_count": 23,
      "metadata": {
        "colab": {
          "base_uri": "https://localhost:8080/",
          "height": 293
        },
        "id": "Iu6Jh05p2Xzq",
        "outputId": "cb50119a-878e-42c5-b27f-f3ae17116153"
      },
      "outputs": [
        {
          "data": {
            "text/plain": [
              "Text(0, 0.5, '점유율 (%)')"
            ]
          },
          "execution_count": 23,
          "metadata": {},
          "output_type": "execute_result"
        },
        {
          "data": {
            "image/png": "[encoded data removed]",
            "text/plain": [
              "<Figure size 432x288 with 1 Axes>"
            ]
          },
          "metadata": {
            "needs_background": "light"
          },
          "output_type": "display_data"
        }
      ],
      "source": [
        "ott_ratio_2020.loc[['소계']].plot.bar()\n",
        "plt.xlabel(\"OTT 서비스\")\n",
        "plt.ylabel('점유율 (%)')\n"
      ]
    },
    {
      "cell_type": "code",
      "execution_count": 53,
      "metadata": {},
      "outputs": [
        {
          "data": {
            "text/html": [
              "<style type=\"text/css\">\n",
              "</style>\n",
              "<table id=\"T_6abcb_\">\n",
              "  <thead>\n",
              "    <tr>\n",
              "      <th class=\"col_heading level0 col0\" >U+모바일 TV (%)</th>\n",
              "      <th class=\"col_heading level0 col1\" >Tving (%)</th>\n",
              "      <th class=\"col_heading level0 col2\" >V live (%)</th>\n",
              "      <th class=\"col_heading level0 col3\" >아프리카 TV (%)</th>\n",
              "      <th class=\"col_heading level0 col4\" >왓챠플레이 (%)</th>\n",
              "      <th class=\"col_heading level0 col5\" >곰TV (%)</th>\n",
              "      <th class=\"col_heading level0 col6\" >유튜브 (%)</th>\n",
              "      <th class=\"col_heading level0 col7\" >넷플릭스 (%)</th>\n",
              "      <th class=\"col_heading level0 col8\" >Wavve (%)</th>\n",
              "      <th class=\"col_heading level0 col9\" >시즌 (%)</th>\n",
              "      <th class=\"col_heading level0 col10\" >기타 (%)</th>\n",
              "    </tr>\n",
              "  </thead>\n",
              "  <tbody>\n",
              "    <tr>\n",
              "      <td id=\"T_6abcb_row0_col0\" class=\"data row0 col0\" >1.100000</td>\n",
              "      <td id=\"T_6abcb_row0_col1\" class=\"data row0 col1\" >1.500000</td>\n",
              "      <td id=\"T_6abcb_row0_col2\" class=\"data row0 col2\" >0.100000</td>\n",
              "      <td id=\"T_6abcb_row0_col3\" class=\"data row0 col3\" >0.300000</td>\n",
              "      <td id=\"T_6abcb_row0_col4\" class=\"data row0 col4\" >0.300000</td>\n",
              "      <td id=\"T_6abcb_row0_col5\" class=\"data row0 col5\" >0.000000</td>\n",
              "      <td id=\"T_6abcb_row0_col6\" class=\"data row0 col6\" >8.200000</td>\n",
              "      <td id=\"T_6abcb_row0_col7\" class=\"data row0 col7\" >11.600000</td>\n",
              "      <td id=\"T_6abcb_row0_col8\" class=\"data row0 col8\" >2.300000</td>\n",
              "      <td id=\"T_6abcb_row0_col9\" class=\"data row0 col9\" >0.500000</td>\n",
              "      <td id=\"T_6abcb_row0_col10\" class=\"data row0 col10\" >0.000000</td>\n",
              "    </tr>\n",
              "  </tbody>\n",
              "</table>\n"
            ],
            "text/plain": [
              "<pandas.io.formats.style.Styler at 0x1e54aa4ed48>"
            ]
          },
          "execution_count": 53,
          "metadata": {},
          "output_type": "execute_result"
        }
      ],
      "source": [
        "ott_ratio_2020.loc[['소계']].iloc[:,1:-1].style.hide_index()\n",
        "# AttributeError: 'Styler' object has no attribute 'plot'\n",
        "# 이상태로는 plot.bar 불가"
      ]
    },
    {
      "cell_type": "code",
      "execution_count": null,
      "metadata": {},
      "outputs": [],
      "source": [
        "ott_ratio_2020.loc[['소계']].iloc[:,1:-1].style.hide_index().plot.bar()"
      ]
    },
    {
      "cell_type": "markdown",
      "metadata": {},
      "source": [
        "ott_ratio_2020 = ott_ratio_2020.set_index('구분별(2)')\n",
        "멀티인덱스 보기는 좋지만, 내가 단순히 원하는 부분을 가져오고 나서는 힘들어짐.(공부 부족)"
      ]
    }
  ],
  "metadata": {
    "colab": {
      "collapsed_sections": [],
      "name": "ott_ratio,국내,2020의 사본",
      "provenance": []
    },
    "kernelspec": {
      "display_name": "Python 3",
      "name": "python3"
    },
    "language_info": {
      "codemirror_mode": {
        "name": "ipython",
        "version": 3
      },
      "file_extension": ".py",
      "mimetype": "text/x-python",
      "name": "python",
      "nbconvert_exporter": "python",
      "pygments_lexer": "ipython3",
      "version": "3.7.7"
    }
  },
  "nbformat": 4,
  "nbformat_minor": 0
}
